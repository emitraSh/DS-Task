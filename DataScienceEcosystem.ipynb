{
 "cells": [
  {
   "cell_type": "markdown",
   "id": "41c20a92",
   "metadata": {},
   "source": [
    "# Data Science Tools and Ecosystem"
   ]
  },
  {
   "cell_type": "markdown",
   "id": "98c432d0",
   "metadata": {},
   "source": [
    "In this notebook, Data Science Tools and Ecosystem are summarized."
   ]
  },
  {
   "cell_type": "markdown",
   "id": "20ad2d0b",
   "metadata": {},
   "source": [
    "Some of the popular languages that Data Scientists use are:\n",
    "    Python\n",
    "    - R\n",
    "    - Juliya\n",
    "    - Java\n",
    "    - C++\n",
    "    - Scala\n",
    "      \n",
    "      ....\n",
    "    "
   ]
  },
  {
   "cell_type": "markdown",
   "id": "a4544dee",
   "metadata": {},
   "source": [
    "Some of the commonly used libraries used by Data Scientists include: Pandas - Numpy - Matplotlib- Scikit-learn -carot"
   ]
  },
  {
   "cell_type": "code",
   "execution_count": 2,
   "id": "69ed8174",
   "metadata": {},
   "outputs": [],
   "source": [
    "import pandas as pd"
   ]
  },
  {
   "cell_type": "code",
   "execution_count": 3,
   "id": "2eb319ab",
   "metadata": {},
   "outputs": [
    {
     "data": {
      "text/html": [
       "<div>\n",
       "<style scoped>\n",
       "    .dataframe tbody tr th:only-of-type {\n",
       "        vertical-align: middle;\n",
       "    }\n",
       "\n",
       "    .dataframe tbody tr th {\n",
       "        vertical-align: top;\n",
       "    }\n",
       "\n",
       "    .dataframe thead th {\n",
       "        text-align: right;\n",
       "    }\n",
       "</style>\n",
       "<table border=\"1\" class=\"dataframe\">\n",
       "  <thead>\n",
       "    <tr style=\"text-align: right;\">\n",
       "      <th></th>\n",
       "      <th>Data Science Tools</th>\n",
       "    </tr>\n",
       "  </thead>\n",
       "  <tbody>\n",
       "    <tr>\n",
       "      <th>0</th>\n",
       "      <td>Anaconda</td>\n",
       "    </tr>\n",
       "    <tr>\n",
       "      <th>1</th>\n",
       "      <td>Jupyter Notebook</td>\n",
       "    </tr>\n",
       "    <tr>\n",
       "      <th>2</th>\n",
       "      <td>Google Colab</td>\n",
       "    </tr>\n",
       "    <tr>\n",
       "      <th>3</th>\n",
       "      <td>Rstudio</td>\n",
       "    </tr>\n",
       "    <tr>\n",
       "      <th>4</th>\n",
       "      <td>Jupyter Lab</td>\n",
       "    </tr>\n",
       "    <tr>\n",
       "      <th>5</th>\n",
       "      <td>IBM Watson Studio</td>\n",
       "    </tr>\n",
       "  </tbody>\n",
       "</table>\n",
       "</div>"
      ],
      "text/plain": [
       "  Data Science Tools\n",
       "0           Anaconda\n",
       "1   Jupyter Notebook\n",
       "2       Google Colab\n",
       "3            Rstudio\n",
       "4        Jupyter Lab\n",
       "5  IBM Watson Studio"
      ]
     },
     "execution_count": 3,
     "metadata": {},
     "output_type": "execute_result"
    }
   ],
   "source": [
    "pd.DataFrame({\"Data Science Tools\":[\"Anaconda\",\"Jupyter Notebook\",\"Google Colab\", \"Rstudio\", \"Jupyter Lab\", \"IBM Watson Studio\"]})"
   ]
  },
  {
   "cell_type": "markdown",
   "id": "29e5136f",
   "metadata": {},
   "source": [
    "### Below are a few examples of evaluating arithmetic expressions in Python"
   ]
  },
  {
   "cell_type": "code",
   "execution_count": 4,
   "id": "bb7a9b90",
   "metadata": {},
   "outputs": [
    {
     "data": {
      "text/plain": [
       "17"
      ]
     },
     "execution_count": 4,
     "metadata": {},
     "output_type": "execute_result"
    }
   ],
   "source": [
    "#This a simple arithmetic expression to mutiply then add integers\n",
    "(3*4)+5"
   ]
  },
  {
   "cell_type": "code",
   "execution_count": 6,
   "id": "4fc2b863",
   "metadata": {},
   "outputs": [
    {
     "name": "stdout",
     "output_type": "stream",
     "text": [
      "3.3333333333333335\n"
     ]
    }
   ],
   "source": [
    "#This will convert 200 minutes to hours by diving by 60\n",
    "min = 200\n",
    "hours = min/60\n",
    "print hours)"
   ]
  },
  {
   "cell_type": "markdown",
   "id": "1a74cbaf",
   "metadata": {},
   "source": [
    "# Objectives:"
   ]
  },
  {
   "cell_type": "markdown",
   "id": "4a2716ce",
   "metadata": {},
   "source": [
    "List popular languages for Data Science"
   ]
  },
  {
   "cell_type": "markdown",
   "id": "84ef29fc",
   "metadata": {},
   "source": [
    "Arithmethics(Adding numbers)"
   ]
  },
  {
   "cell_type": "markdown",
   "id": "b58a15da",
   "metadata": {},
   "source": [
    "list of Data Science Languages\n"
   ]
  },
  {
   "cell_type": "markdown",
   "id": "f28e93dd",
   "metadata": {},
   "source": [
    "Creating a table of tools"
   ]
  },
  {
   "cell_type": "markdown",
   "id": "efff01ae",
   "metadata": {},
   "source": [
    "## Author"
   ]
  },
  {
   "cell_type": "markdown",
   "id": "542a5292",
   "metadata": {},
   "source": [
    "Mitra Jalal Shokuhi"
   ]
  },
  {
   "cell_type": "code",
   "execution_count": null,
   "id": "c0ab65be",
   "metadata": {},
   "outputs": [],
   "source": []
  }
 ],
 "metadata": {
  "kernelspec": {
   "display_name": "Python 3 (ipykernel)",
   "language": "python",
   "name": "python3"
  },
  "language_info": {
   "codemirror_mode": {
    "name": "ipython",
    "version": 3
   },
   "file_extension": ".py",
   "mimetype": "text/x-python",
   "name": "python",
   "nbconvert_exporter": "python",
   "pygments_lexer": "ipython3",
   "version": "3.10.9"
  }
 },
 "nbformat": 4,
 "nbformat_minor": 5
}
